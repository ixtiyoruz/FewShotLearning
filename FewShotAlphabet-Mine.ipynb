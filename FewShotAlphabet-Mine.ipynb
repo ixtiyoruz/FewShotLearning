{
 "cells": [
  {
   "cell_type": "markdown",
   "metadata": {},
   "source": [
    "# Prototypical Networks for Few-shot Learning"
   ]
  },
  {
   "cell_type": "markdown",
   "metadata": {},
   "source": [
    "So the idea is to solve the problem of few shot learning in terms of classifier.\n",
    "- Classifier must generalize to new classes not seen in the training set, given only a small number of examples of each new class. \n",
    "- So, we don't give the model totally new dataset it will be given only a small number of them.\n",
    "Humans are well suited at this task, given one image we can learn what it is and classify the object.\n",
    "Prototypical networks learn a metric space in which classification can be performed by computing distances to prototype representations of each class.\n",
    "- What is prototype representation of a class ?\n",
    "    - I bet this paper is all about this, we have to read more \n",
    "- Their assumptions:\n",
    "    - Our approach, prototypical networks, is based on the idea that there exists an embedding in which points cluster around a single prototype representation for each class.\n",
    "- They learn an embedding of the meta-data into a shared space to serve as the prototype for each class.\n",
    "\n",
    "\n"
   ]
  },
  {
   "cell_type": "markdown",
   "metadata": {},
   "source": [
    "# Dataset Loading "
   ]
  },
  {
   "cell_type": "code",
   "execution_count": 1,
   "metadata": {},
   "outputs": [],
   "source": [
    "import torch\n",
    "from torch.utils.data import Dataset, DataLoader\n",
    "import os, sys\n",
    "import cv2\n",
    "from PIL import Image\n",
    "import numpy as np\n",
    "import multiprocessing as mp\n",
    "import pandas as pd\n",
    "from threading import Thread\n",
    "from scipy import ndimage\n",
    "import torchvision\n",
    "import matplotlib.pyplot as plt\n",
    "import torch.nn as nn\n",
    "from torch.autograd import Variable\n",
    "import torch.optim as optim\n",
    "import torch.nn.functional as F"
   ]
  },
  {
   "cell_type": "code",
   "execution_count": 2,
   "metadata": {},
   "outputs": [
    {
     "name": "stdout",
     "output_type": "stream",
     "text": [
      "True\n"
     ]
    }
   ],
   "source": [
    "#Check GPU support, please do activate GPU\n",
    "print(torch.cuda.is_available())\n",
    "ctx = torch.device(\"cuda\") if torch.cuda.is_available() else torch.device(\"cpu\")"
   ]
  },
  {
   "cell_type": "code",
   "execution_count": 3,
   "metadata": {},
   "outputs": [],
   "source": [
    "WIDTH = 28\n",
    "def read_characters(alphabet_path):\n",
    "    character_folders = os.listdir(alphabet_path)\n",
    "    imgs = []\n",
    "    labels = []\n",
    "    for character_folder in character_folders:\n",
    "        im_names = os.listdir(os.path.join(alphabet_path, character_folder))\n",
    "        for img_name in im_names:\n",
    "            img = cv2.resize(cv2.imread(os.path.join(alphabet_path, character_folder, img_name)), (WIDTH, WIDTH))\n",
    "            #rotations of image\n",
    "            rotated_90 = ndimage.rotate(img, 90)\n",
    "            rotated_180 = ndimage.rotate(img, 180)\n",
    "            rotated_270 = ndimage.rotate(img, 270)\n",
    "            imgs.extend((img, rotated_90, rotated_180, rotated_270))\n",
    "            labels.extend((\n",
    "                alphabet_path + '_' + character_folder + '_0',\n",
    "                alphabet_path + '_' + character_folder + '_90',\n",
    "                alphabet_path + '_' + character_folder + '_180',\n",
    "                alphabet_path + '_' + character_folder + '_270'\n",
    "            ))\n",
    "            \n",
    "    return np.array(imgs), np.array(labels)\n",
    "            \n",
    "def read_alphabets(folder):\n",
    "    alphabets = os.listdir(folder)\n",
    "    imgs = []\n",
    "    labels = []\n",
    "    \n",
    "    for alphabet in alphabets:\n",
    "        alph_imgs, alph_labels = read_characters(os.path.join(folder, alphabet))\n",
    "        imgs.append(alph_imgs)\n",
    "        labels.append(alph_labels)\n",
    "    imgs = np.concatenate(imgs, 0)\n",
    "    labels = np.concatenate(labels, 0)\n",
    "    return imgs, labels\n",
    "        "
   ]
  },
  {
   "cell_type": "code",
   "execution_count": 4,
   "metadata": {},
   "outputs": [
    {
     "name": "stdout",
     "output_type": "stream",
     "text": [
      "Wall time: 1min 3s\n"
     ]
    }
   ],
   "source": [
    "%%time\n",
    "trainx, trainy = read_alphabets(\"images_background\")\n",
    "testx, testy = read_alphabets(\"images_evaluation\")"
   ]
  },
  {
   "cell_type": "code",
   "execution_count": 5,
   "metadata": {},
   "outputs": [],
   "source": [
    "classes = np.unique(trainy)"
   ]
  },
  {
   "cell_type": "markdown",
   "metadata": {},
   "source": [
    "# The data:\n",
    "- In few shot classification, we have:\n",
    "    - N labelled examples S = {(x1, y1), . . . ,(xN , yN )}.\n",
    "        - Each x is D dimensional feature vector.\n",
    "        - y is the corresponding label\n",
    "        - Sk denotes set of examples labelled with class k.\n",
    "\n",
    "# The model:\n",
    "- Prototypical networks compute M dimensional representation ck ∈ RM, \n",
    "- So the model can be defined like this:   f(R_D ->R_M)              which converts D dimensional data into M dimension.\n",
    "- So, firstly we will compute prototype representations of each class and compute the embedding of query point x.\n",
    "- Then it will compute the probability based on softmax, given distance function d.\n",
    "\n",
    "\n",
    "paper is available here:\n",
    "https://arxiv.org/pdf/1703.05175.pdf\n"
   ]
  },
  {
   "cell_type": "code",
   "execution_count": 6,
   "metadata": {},
   "outputs": [],
   "source": [
    "from torchvision import transforms\n",
    "class Alphabet(Dataset):\n",
    "    def __init__(self, imgs, labels, classes, my_transforms, n_class_per_batch=60, n_support=5, n_batch=5, epoch_size=2000, test=False):\n",
    "        Dataset.__init__(self)\n",
    "        self.imgs = imgs\n",
    "        self.indices = np.arange(len(self.imgs))\n",
    "        self.labels = labels\n",
    "        self.n_class_per_batch = n_class_per_batch\n",
    "        self.n_support = n_support\n",
    "        self.classes = classes\n",
    "        self.n_batch = n_batch\n",
    "        self.epoch_size = epoch_size\n",
    "        self.my_transforms = my_transforms\n",
    "        self.curr_index = 0\n",
    "        self.test = test\n",
    "    def __len__(self):\n",
    "        return self.epoch_size\n",
    "    def __getitem__(self, ind):\n",
    "        \"\"\"\n",
    "        first of all we need to generate random classes \n",
    "        to sample from\n",
    "        then get random unique images for both support and training.\n",
    "        \"\"\"\n",
    "        if(self.test):\n",
    "            curr_classes = self.classes[self.curr_index:self.curr_index+self.n_class_per_batch]\n",
    "            self.curr_index += self.n_class_per_batch\n",
    "        else:\n",
    "            curr_classes = np.random.choice(self.classes, self.n_class_per_batch, replace=False)\n",
    "            \n",
    "        support = []\n",
    "        batch = []\n",
    "        for cl in curr_classes:\n",
    "            indices = np.where(self.labels == cl)[0]\n",
    "            \n",
    "            sel_img_indices = np.random.choice(indices, self.n_support + self.n_batch, replace=True)\n",
    "            sel_imgs = self.imgs[sel_img_indices] \n",
    "            converted_imgs = []\n",
    "            for img in sel_imgs:\n",
    "                imgt = self.my_transforms(img)\n",
    "                converted_imgs.append(self.my_transforms(img))\n",
    "            converted_imgs = torch.stack(converted_imgs, 0)\n",
    "            support.append(converted_imgs[:self.n_support])\n",
    "            batch.append(converted_imgs[self.n_support:])\n",
    "        support = torch.stack(support, 0).float()\n",
    "        batch = torch.stack(batch, 0).float()\n",
    "        # we dont need classes we are sure that the each element in the batch is belong to one class\n",
    "        return support, batch"
   ]
  },
  {
   "cell_type": "code",
   "execution_count": 7,
   "metadata": {},
   "outputs": [],
   "source": [
    "train_transforms = transforms.Compose([\n",
    "            transforms.ToPILImage(),\n",
    "            transforms.ToTensor(),\n",
    "#             transforms.Normalize((0.485, 0.456, 0.406), (0.229, 0.224, 0.225)),\n",
    "                                           ]\n",
    "        )\n",
    "test_transforms = transforms.Compose([\n",
    "            transforms.ToPILImage(),\n",
    "            transforms.ToTensor(),\n",
    "#             transforms.Normalize((0.485, 0.456, 0.406), (0.229, 0.224, 0.225)),\n",
    "                                           ]\n",
    "        )"
   ]
  },
  {
   "cell_type": "code",
   "execution_count": 9,
   "metadata": {},
   "outputs": [],
   "source": [
    "data = Alphabet(trainx, trainy, classes, n_class_per_batch=5, my_transforms=test_transforms)\n",
    "# s_in, b_in = data[0]\n",
    "# display_sample(s_in)"
   ]
  },
  {
   "cell_type": "code",
   "execution_count": null,
   "metadata": {},
   "outputs": [],
   "source": []
  },
  {
   "cell_type": "code",
   "execution_count": null,
   "metadata": {},
   "outputs": [],
   "source": []
  },
  {
   "cell_type": "code",
   "execution_count": 10,
   "metadata": {},
   "outputs": [],
   "source": [
    "class PrototypeModel(nn.Module):\n",
    "    def __init__(self,in_dim,hid_dim, out_dim):\n",
    "        super().__init__()\n",
    "        self.conv_blocks = nn.Sequential(\n",
    "            self.block(3, hid_dim),\n",
    "            self.block(hid_dim, hid_dim),\n",
    "            self.block(hid_dim, hid_dim),\n",
    "            self.block(hid_dim, out_dim)\n",
    "        )\n",
    "    def block(self,in_channels, out_channels):\n",
    "        return nn.Sequential(\n",
    "            nn.Conv2d(in_channels, out_channels, 3, padding=1),\n",
    "            nn.BatchNorm2d(out_channels),\n",
    "            nn.ReLU(),\n",
    "            nn.MaxPool2d(2))\n",
    "    def forward(self, x):\n",
    "        x = self.conv_blocks(x)\n",
    "        return x.reshape(x.size(0), -1)"
   ]
  },
  {
   "cell_type": "code",
   "execution_count": 11,
   "metadata": {},
   "outputs": [],
   "source": [
    "def euclidean_dist(x, y):\n",
    "    \"\"\"\n",
    "    Computes euclidean distance btw x and y\n",
    "    Args:\n",
    "      x (torch.Tensor): shape (n, d). n usually n_way*n_query\n",
    "      y (torch.Tensor): shape (m, d). m usually n_way\n",
    "    Returns:\n",
    "      torch.Tensor: shape(n, m). For each query, the distances to each centroid\n",
    "    \"\"\"\n",
    "    n = x.size(0)\n",
    "    m = y.size(0)\n",
    "    d = x.size(1)\n",
    "    assert d == y.size(1)\n",
    "\n",
    "    x = x.unsqueeze(1).expand(n, m, d)\n",
    "    y = y.unsqueeze(0).expand(n, m, d)\n",
    "\n",
    "    return torch.pow(x - y, 2).sum(2)"
   ]
  },
  {
   "cell_type": "code",
   "execution_count": 12,
   "metadata": {},
   "outputs": [],
   "source": [
    "def get_loss(model, support_in, batch_in):\n",
    "    \"\"\"\n",
    "    model: PrototypeModel - the model to be used to get the predictions\n",
    "    support_in: tensor with size n_class_per_batch x n_support x w x h x 3 \n",
    "    - input data  of support dataset \n",
    "    batch_in: tensor with shape n_class_per_batch x n_batch x w x h x 3\n",
    "    - input data  of batch dataset \n",
    "    \"\"\" \n",
    "    n_class = batch_in.shape[0]\n",
    "    n_batch = batch_in.shape[1]\n",
    "    n_supoort = support_in.shape[1]\n",
    "    \n",
    "    # change the size to suitable format\n",
    "    support_in = support_in.contiguous().view(n_class * n_supoort, *support_in.shape[-3:])\n",
    "    batch_in = batch_in.contiguous().view(n_class * n_batch, *batch_in.shape[-3:])\n",
    "    s_pred = model(support_in)\n",
    "    b_pred = model(batch_in)\n",
    "    z_dim = b_pred.size(-1)\n",
    "    \n",
    "    labels = torch.arange(0, n_class).view(n_class,1, 1).expand(n_class, n_batch, -1).long()\n",
    "    labels = Variable(labels, requires_grad=False)\n",
    "    labels = labels.to(ctx)\n",
    "    \n",
    "    # so s_pred will play the role of class prototypes so we have to take the mean of each class\n",
    "    s_pred = s_pred.view(n_class, n_supoort, z_dim).mean(1)\n",
    "    b_pred = b_pred\n",
    "    # this computes distances of each batch sample from all the prototype means, \n",
    "    # so the output can be shaped to n_class x n_batch x n_classs which means n_class \n",
    "    dists = torch.cdist(b_pred, s_pred)\n",
    "    log_p_y = torch.log_softmax(-dists, dim = 1).view(n_class, n_batch, -1)\n",
    "    \n",
    "    # what gather does is selects specific element from given index and the dimension of the \n",
    "    # indexing should be the same with the array\n",
    "    loss = -log_p_y.gather(2, labels).mean()\n",
    "    _, y_hat = log_p_y.max(2)\n",
    "    acc_val = torch.eq(y_hat, labels.squeeze()).float().mean()\n",
    "    return loss, acc_val, y_hat"
   ]
  },
  {
   "cell_type": "code",
   "execution_count": 14,
   "metadata": {},
   "outputs": [],
   "source": [
    "# test the get_loss function\n",
    "# s_in, b_in = data[0]\n",
    "# display_sample(s_in)\n",
    "# print(s_in.shape, b_in.shape)\n",
    "# get_loss(model, s_in.to(ctx), b_in.to(ctx))\n"
   ]
  },
  {
   "cell_type": "code",
   "execution_count": 15,
   "metadata": {},
   "outputs": [],
   "source": [
    "def display_sample(sample):\n",
    "    \"\"\"\n",
    "    Displays sample in a grid\n",
    "    Args:\n",
    "      sample (torch.Tensor): sample of images to display\n",
    "    \"\"\"\n",
    "    print(sample.shape)\n",
    "    #need 4D tensor to create grid, currently 5D\n",
    "    sample_4D = sample.view(sample.shape[0]*sample.shape[1], *sample.shape[2:])\n",
    "    #make a grid\n",
    "    out = torchvision.utils.make_grid(sample_4D, nrow=sample.shape[1])\n",
    "    plt.figure(figsize = (16,7))\n",
    "    plt.imshow(out.permute(1, 2, 0))"
   ]
  },
  {
   "cell_type": "code",
   "execution_count": 16,
   "metadata": {},
   "outputs": [
    {
     "name": "stdout",
     "output_type": "stream",
     "text": [
      "torch.Size([5, 5, 3, 28, 28])\n"
     ]
    },
    {
     "data": {
      "image/png": "[encoded data removed]",
      "text/plain": [
       "<Figure size 1152x504 with 1 Axes>"
      ]
     },
     "metadata": {
      "needs_background": "light"
     },
     "output_type": "display_data"
    }
   ],
   "source": [
    "display_sample(s_in)"
   ]
  },
  {
   "cell_type": "code",
   "execution_count": 17,
   "metadata": {},
   "outputs": [],
   "source": [
    "from tqdm import tqdm_notebook\n",
    "from tqdm import tnrange\n",
    "import time"
   ]
  },
  {
   "cell_type": "code",
   "execution_count": 18,
   "metadata": {},
   "outputs": [],
   "source": [
    "model = PrototypeModel(3, 64,64)\n",
    "model = model.to(ctx)\n",
    "dataloader = DataLoader(data, batch_size=1)"
   ]
  },
  {
   "cell_type": "code",
   "execution_count": 19,
   "metadata": {},
   "outputs": [
    {
     "name": "stderr",
     "output_type": "stream",
     "text": [
      "C:\\Users\\Challenger\\Anaconda3\\envs\\epytorch\\lib\\site-packages\\ipykernel_launcher.py:6: UserWarning: nn.init.xavier_uniform is now deprecated in favor of nn.init.xavier_uniform_.\n",
      "  \n"
     ]
    },
    {
     "data": {
      "text/plain": [
       "PrototypeModel(\n",
       "  (conv_blocks): Sequential(\n",
       "    (0): Sequential(\n",
       "      (0): Conv2d(3, 64, kernel_size=(3, 3), stride=(1, 1), padding=(1, 1))\n",
       "      (1): BatchNorm2d(64, eps=1e-05, momentum=0.1, affine=True, track_running_stats=True)\n",
       "      (2): ReLU()\n",
       "      (3): MaxPool2d(kernel_size=2, stride=2, padding=0, dilation=1, ceil_mode=False)\n",
       "    )\n",
       "    (1): Sequential(\n",
       "      (0): Conv2d(64, 64, kernel_size=(3, 3), stride=(1, 1), padding=(1, 1))\n",
       "      (1): BatchNorm2d(64, eps=1e-05, momentum=0.1, affine=True, track_running_stats=True)\n",
       "      (2): ReLU()\n",
       "      (3): MaxPool2d(kernel_size=2, stride=2, padding=0, dilation=1, ceil_mode=False)\n",
       "    )\n",
       "    (2): Sequential(\n",
       "      (0): Conv2d(64, 64, kernel_size=(3, 3), stride=(1, 1), padding=(1, 1))\n",
       "      (1): BatchNorm2d(64, eps=1e-05, momentum=0.1, affine=True, track_running_stats=True)\n",
       "      (2): ReLU()\n",
       "      (3): MaxPool2d(kernel_size=2, stride=2, padding=0, dilation=1, ceil_mode=False)\n",
       "    )\n",
       "    (3): Sequential(\n",
       "      (0): Conv2d(64, 64, kernel_size=(3, 3), stride=(1, 1), padding=(1, 1))\n",
       "      (1): BatchNorm2d(64, eps=1e-05, momentum=0.1, affine=True, track_running_stats=True)\n",
       "      (2): ReLU()\n",
       "      (3): MaxPool2d(kernel_size=2, stride=2, padding=0, dilation=1, ceil_mode=False)\n",
       "    )\n",
       "  )\n",
       ")"
      ]
     },
     "execution_count": 19,
     "metadata": {},
     "output_type": "execute_result"
    }
   ],
   "source": [
    "def init_weights(m):\n",
    "    if isinstance(m, nn.Linear):\n",
    "        torch.nn.init.xavier_uniform(m.weight)\n",
    "        m.bias.data.fill_(0.001)\n",
    "    if isinstance(m, nn.Conv2d):\n",
    "        torch.nn.init.xavier_uniform(m.weight)\n",
    "        m.bias.data.fill_(0.001)\n",
    "model.apply(init_weights)"
   ]
  },
  {
   "cell_type": "code",
   "execution_count": 20,
   "metadata": {},
   "outputs": [],
   "source": [
    "epoch_size = 100\n",
    "epoch = 0\n",
    "loss = 0\n",
    "accuracy = 0\n",
    "lr = 0.1\n",
    "# optimizer\n",
    "optimizer = optim.SGD(model.parameters(), lr=lr)\n",
    "#divide the learning rate by 2 at each epoch, as suggested in paper\n",
    "scheduler = optim.lr_scheduler.StepLR(optimizer, 1, gamma=0.5, last_epoch=-1)"
   ]
  },
  {
   "cell_type": "code",
   "execution_count": 21,
   "metadata": {},
   "outputs": [
    {
     "name": "stderr",
     "output_type": "stream",
     "text": [
      "C:\\Users\\Challenger\\Anaconda3\\envs\\epytorch\\lib\\site-packages\\ipykernel_launcher.py:4: TqdmDeprecationWarning: Please use `tqdm.notebook.trange` instead of `tqdm.tnrange`\n",
      "  after removing the cwd from sys.path.\n"
     ]
    },
    {
     "data": {
      "application/vnd.jupyter.widget-view+json": {
       "model_id": "639fccf2b5cd4701a200fa8880e40857",
       "version_major": 2,
       "version_minor": 0
      },
      "text/plain": [
       "Epoch 1 train:   0%|          | 0/100 [00:00<?, ?it/s]"
      ]
     },
     "metadata": {},
     "output_type": "display_data"
    },
    {
     "name": "stderr",
     "output_type": "stream",
     "text": [
      "C:\\Users\\Challenger\\Anaconda3\\envs\\epytorch\\lib\\site-packages\\ipykernel_launcher.py:6: TqdmDeprecationWarning: This function will be removed in tqdm==5.0.0\n",
      "Please use `tqdm.notebook.tqdm` instead of `tqdm.tqdm_notebook`\n",
      "  \n"
     ]
    },
    {
     "data": {
      "application/vnd.jupyter.widget-view+json": {
       "model_id": "1630e38a5dce4ba59cf87dcd23d30b72",
       "version_major": 2,
       "version_minor": 0
      },
      "text/plain": [
       "  0%|          | 0/2000 [00:00<?, ?it/s]"
      ]
     },
     "metadata": {},
     "output_type": "display_data"
    },
    {
     "name": "stdout",
     "output_type": "stream",
     "text": [
      " mean loss: 0.052, mean accuracy: 0.988\n"
     ]
    },
    {
     "data": {
      "application/vnd.jupyter.widget-view+json": {
       "model_id": "3f2a9b1ea16944b192d02af75a293ab8",
       "version_major": 2,
       "version_minor": 0
      },
      "text/plain": [
       "  0%|          | 0/2000 [00:00<?, ?it/s]"
      ]
     },
     "metadata": {},
     "output_type": "display_data"
    },
    {
     "name": "stdout",
     "output_type": "stream",
     "text": [
      " mean loss: 0.037, mean accuracy: 0.991\n"
     ]
    },
    {
     "data": {
      "application/vnd.jupyter.widget-view+json": {
       "model_id": "912ce8c6b4d14602878eca8580cf2d7b",
       "version_major": 2,
       "version_minor": 0
      },
      "text/plain": [
       "  0%|          | 0/2000 [00:00<?, ?it/s]"
      ]
     },
     "metadata": {},
     "output_type": "display_data"
    },
    {
     "name": "stdout",
     "output_type": "stream",
     "text": [
      " mean loss: 0.03, mean accuracy: 0.993\n"
     ]
    },
    {
     "data": {
      "application/vnd.jupyter.widget-view+json": {
       "model_id": "a062987572144c7b8ad57743753f2f3e",
       "version_major": 2,
       "version_minor": 0
      },
      "text/plain": [
       "  0%|          | 0/2000 [00:00<?, ?it/s]"
      ]
     },
     "metadata": {},
     "output_type": "display_data"
    },
    {
     "name": "stdout",
     "output_type": "stream",
     "text": [
      " mean loss: 0.026, mean accuracy: 0.994\n"
     ]
    },
    {
     "data": {
      "application/vnd.jupyter.widget-view+json": {
       "model_id": "14cd5701d8cd476087c042d1b3c2145f",
       "version_major": 2,
       "version_minor": 0
      },
      "text/plain": [
       "  0%|          | 0/2000 [00:00<?, ?it/s]"
      ]
     },
     "metadata": {},
     "output_type": "display_data"
    },
    {
     "name": "stdout",
     "output_type": "stream",
     "text": [
      " mean loss: 0.023, mean accuracy: 0.995\n"
     ]
    },
    {
     "data": {
      "application/vnd.jupyter.widget-view+json": {
       "model_id": "08bc3226fd0645be892b65905c034f90",
       "version_major": 2,
       "version_minor": 0
      },
      "text/plain": [
       "  0%|          | 0/2000 [00:00<?, ?it/s]"
      ]
     },
     "metadata": {},
     "output_type": "display_data"
    },
    {
     "name": "stdout",
     "output_type": "stream",
     "text": [
      " mean loss: 0.022, mean accuracy: 0.995\n"
     ]
    },
    {
     "data": {
      "application/vnd.jupyter.widget-view+json": {
       "model_id": "501974e4a8f54cfa945c0d604fbcb7a6",
       "version_major": 2,
       "version_minor": 0
      },
      "text/plain": [
       "  0%|          | 0/2000 [00:00<?, ?it/s]"
      ]
     },
     "metadata": {},
     "output_type": "display_data"
    },
    {
     "name": "stdout",
     "output_type": "stream",
     "text": [
      " mean loss: 0.021, mean accuracy: 0.995\n"
     ]
    },
    {
     "data": {
      "application/vnd.jupyter.widget-view+json": {
       "model_id": "57f7d25d3e3f43fcaf597b71d4d144b5",
       "version_major": 2,
       "version_minor": 0
      },
      "text/plain": [
       "  0%|          | 0/2000 [00:00<?, ?it/s]"
      ]
     },
     "metadata": {},
     "output_type": "display_data"
    },
    {
     "name": "stdout",
     "output_type": "stream",
     "text": [
      " mean loss: 0.02, mean accuracy: 0.995\n"
     ]
    },
    {
     "data": {
      "application/vnd.jupyter.widget-view+json": {
       "model_id": "77ad98406a8c47bea1dc0631ac60726a",
       "version_major": 2,
       "version_minor": 0
      },
      "text/plain": [
       "  0%|          | 0/2000 [00:00<?, ?it/s]"
      ]
     },
     "metadata": {},
     "output_type": "display_data"
    },
    {
     "name": "stdout",
     "output_type": "stream",
     "text": [
      " mean loss: 0.019, mean accuracy: 0.996\n"
     ]
    },
    {
     "data": {
      "application/vnd.jupyter.widget-view+json": {
       "model_id": "dc36443873854a258048eb28520f5f25",
       "version_major": 2,
       "version_minor": 0
      },
      "text/plain": [
       "  0%|          | 0/2000 [00:00<?, ?it/s]"
      ]
     },
     "metadata": {},
     "output_type": "display_data"
    },
    {
     "ename": "KeyboardInterrupt",
     "evalue": "",
     "output_type": "error",
     "traceback": [
      "\u001b[1;31m---------------------------------------------------------------------------\u001b[0m",
      "\u001b[1;31mKeyboardInterrupt\u001b[0m                         Traceback (most recent call last)",
      "\u001b[1;32m<ipython-input-21-8f14070a5a07>\u001b[0m in \u001b[0;36m<module>\u001b[1;34m\u001b[0m\n\u001b[0;32m      9\u001b[0m         \u001b[0maccuracies\u001b[0m\u001b[1;33m.\u001b[0m\u001b[0mappend\u001b[0m\u001b[1;33m(\u001b[0m\u001b[0macc\u001b[0m\u001b[1;33m.\u001b[0m\u001b[0mitem\u001b[0m\u001b[1;33m(\u001b[0m\u001b[1;33m)\u001b[0m\u001b[1;33m)\u001b[0m\u001b[1;33m\u001b[0m\u001b[1;33m\u001b[0m\u001b[0m\n\u001b[0;32m     10\u001b[0m         \u001b[0mlosses\u001b[0m\u001b[1;33m.\u001b[0m\u001b[0mappend\u001b[0m\u001b[1;33m(\u001b[0m\u001b[0mloss\u001b[0m\u001b[1;33m.\u001b[0m\u001b[0mitem\u001b[0m\u001b[1;33m(\u001b[0m\u001b[1;33m)\u001b[0m\u001b[1;33m)\u001b[0m\u001b[1;33m\u001b[0m\u001b[1;33m\u001b[0m\u001b[0m\n\u001b[1;32m---> 11\u001b[1;33m         \u001b[0mloss\u001b[0m\u001b[1;33m.\u001b[0m\u001b[0mbackward\u001b[0m\u001b[1;33m(\u001b[0m\u001b[1;33m)\u001b[0m\u001b[1;33m\u001b[0m\u001b[1;33m\u001b[0m\u001b[0m\n\u001b[0m\u001b[0;32m     12\u001b[0m         \u001b[0moptimizer\u001b[0m\u001b[1;33m.\u001b[0m\u001b[0mstep\u001b[0m\u001b[1;33m(\u001b[0m\u001b[1;33m)\u001b[0m\u001b[1;33m\u001b[0m\u001b[1;33m\u001b[0m\u001b[0m\n\u001b[0;32m     13\u001b[0m \u001b[1;33m\u001b[0m\u001b[0m\n",
      "\u001b[1;32m~\\Anaconda3\\envs\\epytorch\\lib\\site-packages\\torch\\tensor.py\u001b[0m in \u001b[0;36mbackward\u001b[1;34m(self, gradient, retain_graph, create_graph)\u001b[0m\n\u001b[0;32m    219\u001b[0m                 \u001b[0mretain_graph\u001b[0m\u001b[1;33m=\u001b[0m\u001b[0mretain_graph\u001b[0m\u001b[1;33m,\u001b[0m\u001b[1;33m\u001b[0m\u001b[1;33m\u001b[0m\u001b[0m\n\u001b[0;32m    220\u001b[0m                 create_graph=create_graph)\n\u001b[1;32m--> 221\u001b[1;33m         \u001b[0mtorch\u001b[0m\u001b[1;33m.\u001b[0m\u001b[0mautograd\u001b[0m\u001b[1;33m.\u001b[0m\u001b[0mbackward\u001b[0m\u001b[1;33m(\u001b[0m\u001b[0mself\u001b[0m\u001b[1;33m,\u001b[0m \u001b[0mgradient\u001b[0m\u001b[1;33m,\u001b[0m \u001b[0mretain_graph\u001b[0m\u001b[1;33m,\u001b[0m \u001b[0mcreate_graph\u001b[0m\u001b[1;33m)\u001b[0m\u001b[1;33m\u001b[0m\u001b[1;33m\u001b[0m\u001b[0m\n\u001b[0m\u001b[0;32m    222\u001b[0m \u001b[1;33m\u001b[0m\u001b[0m\n\u001b[0;32m    223\u001b[0m     \u001b[1;32mdef\u001b[0m \u001b[0mregister_hook\u001b[0m\u001b[1;33m(\u001b[0m\u001b[0mself\u001b[0m\u001b[1;33m,\u001b[0m \u001b[0mhook\u001b[0m\u001b[1;33m)\u001b[0m\u001b[1;33m:\u001b[0m\u001b[1;33m\u001b[0m\u001b[1;33m\u001b[0m\u001b[0m\n",
      "\u001b[1;32m~\\Anaconda3\\envs\\epytorch\\lib\\site-packages\\torch\\autograd\\__init__.py\u001b[0m in \u001b[0;36mbackward\u001b[1;34m(tensors, grad_tensors, retain_graph, create_graph, grad_variables)\u001b[0m\n\u001b[0;32m    130\u001b[0m     Variable._execution_engine.run_backward(\n\u001b[0;32m    131\u001b[0m         \u001b[0mtensors\u001b[0m\u001b[1;33m,\u001b[0m \u001b[0mgrad_tensors_\u001b[0m\u001b[1;33m,\u001b[0m \u001b[0mretain_graph\u001b[0m\u001b[1;33m,\u001b[0m \u001b[0mcreate_graph\u001b[0m\u001b[1;33m,\u001b[0m\u001b[1;33m\u001b[0m\u001b[1;33m\u001b[0m\u001b[0m\n\u001b[1;32m--> 132\u001b[1;33m         allow_unreachable=True)  # allow_unreachable flag\n\u001b[0m\u001b[0;32m    133\u001b[0m \u001b[1;33m\u001b[0m\u001b[0m\n\u001b[0;32m    134\u001b[0m \u001b[1;33m\u001b[0m\u001b[0m\n",
      "\u001b[1;31mKeyboardInterrupt\u001b[0m: "
     ]
    }
   ],
   "source": [
    "# traininig \n",
    "accuracies = []\n",
    "losses = []\n",
    "for episode in tnrange(epoch_size, desc=\"Epoch {:d} train\".format(epoch+1)):\n",
    "    \n",
    "    for (s_in, b_in) in tqdm_notebook(dataloader):\n",
    "        optimizer.zero_grad()\n",
    "        loss,acc,_ = get_loss(model, s_in.squeeze(0).to(ctx), b_in.squeeze(0).to(ctx))\n",
    "        accuracies.append(acc.item())\n",
    "        losses.append(loss.item())\n",
    "        loss.backward()\n",
    "        optimizer.step()\n",
    "        \n",
    "    print(f\" mean loss: {round(np.mean(losses),3)}, mean accuracy: {round(np.mean(accuracies),3)}\")\n",
    "    scheduler.step()\n",
    "        \n",
    "#         print(idx)"
   ]
  },
  {
   "cell_type": "code",
   "execution_count": 22,
   "metadata": {},
   "outputs": [
    {
     "data": {
      "text/plain": [
       "2000"
      ]
     },
     "execution_count": 22,
     "metadata": {},
     "output_type": "execute_result"
    }
   ],
   "source": [
    "len(dataloader)"
   ]
  },
  {
   "cell_type": "code",
   "execution_count": null,
   "metadata": {},
   "outputs": [],
   "source": []
  },
  {
   "cell_type": "code",
   "execution_count": 23,
   "metadata": {},
   "outputs": [],
   "source": [
    "test_classes = np.unique(testy)\n",
    "data_val = Alphabet(testx, testy, test_classes, n_class_per_batch=5, epoch_size=2000, my_transforms=test_transforms, test=False)\n",
    "testloader = DataLoader(data_val, batch_size=1)"
   ]
  },
  {
   "cell_type": "code",
   "execution_count": 24,
   "metadata": {},
   "outputs": [],
   "source": [
    "#  for idx, (s_in, b_in) in enumerate(testloader):\n",
    "#     print(idx)"
   ]
  },
  {
   "cell_type": "code",
   "execution_count": 25,
   "metadata": {},
   "outputs": [
    {
     "name": "stderr",
     "output_type": "stream",
     "text": [
      "C:\\Users\\Challenger\\Anaconda3\\envs\\epytorch\\lib\\site-packages\\ipykernel_launcher.py:5: TqdmDeprecationWarning: This function will be removed in tqdm==5.0.0\n",
      "Please use `tqdm.notebook.tqdm` instead of `tqdm.tqdm_notebook`\n",
      "  \"\"\"\n"
     ]
    },
    {
     "data": {
      "application/vnd.jupyter.widget-view+json": {
       "model_id": "01e1abbce9f242769953f120cefd4123",
       "version_major": 2,
       "version_minor": 0
      },
      "text/plain": [
       "  0%|          | 0/2000 [00:00<?, ?it/s]"
      ]
     },
     "metadata": {},
     "output_type": "display_data"
    },
    {
     "name": "stdout",
     "output_type": "stream",
     "text": [
      " mean loss: 0.022, mean accuracy: 0.995\n"
     ]
    }
   ],
   "source": [
    "# traininig \n",
    "accuracies = []\n",
    "losses = []\n",
    "preds = []\n",
    "for (s_in, b_in) in tqdm_notebook(testloader):\n",
    "    with torch.no_grad():\n",
    "        loss,acc,y_hat = get_loss(model, s_in.squeeze(0).to(ctx), b_in.squeeze(0).to(ctx))\n",
    "        preds.append(y_hat)\n",
    "    accuracies.append(acc.item())\n",
    "    losses.append(loss.item())\n",
    "\n",
    "print(f\" mean loss: {round(np.mean(losses),3)}, mean accuracy: {round(np.mean(accuracies),3)}\")\n"
   ]
  },
  {
   "cell_type": "code",
   "execution_count": null,
   "metadata": {},
   "outputs": [],
   "source": [
    "testy.shape"
   ]
  },
  {
   "cell_type": "code",
   "execution_count": null,
   "metadata": {},
   "outputs": [],
   "source": []
  }
 ],
 "metadata": {
  "kernelspec": {
   "display_name": "Python 3",
   "language": "python",
   "name": "python3"
  },
  "language_info": {
   "codemirror_mode": {
    "name": "ipython",
    "version": 3
   },
   "file_extension": ".py",
   "mimetype": "text/x-python",
   "name": "python",
   "nbconvert_exporter": "python",
   "pygments_lexer": "ipython3",
   "version": "3.6.7"
  }
 },
 "nbformat": 4,
 "nbformat_minor": 4
}
